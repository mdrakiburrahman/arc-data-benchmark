{
 "cells": [
  {
   "cell_type": "code",
   "execution_count": 3,
   "metadata": {},
   "outputs": [],
   "source": [
    "from pprint import *\n",
    "import json\n",
    "import pandas as pd\n",
    "import requests\n",
    "import datetime\n",
    "import glob\n",
    "import os"
   ]
  },
  {
   "cell_type": "code",
   "execution_count": 2,
   "metadata": {},
   "outputs": [],
   "source": [
    "pd.set_option('display.max_rows', 500)\n",
    "pd.set_option('display.max_columns', 500)\n",
    "pd.set_option('display.width', None)\n",
    "pd.set_option('display.max_colwidth', None)"
   ]
  },
  {
   "cell_type": "code",
   "execution_count": 5,
   "metadata": {},
   "outputs": [],
   "source": [
    "csv_files = glob.glob('/workspaces/arc-data-benchmark/data/raw/*.csv')"
   ]
  },
  {
   "cell_type": "code",
   "execution_count": 7,
   "metadata": {},
   "outputs": [
    {
     "name": "stdout",
     "output_type": "stream",
     "text": [
      "/workspaces/arc-data-benchmark/data/raw/2022-03-22 10-34-02 PM.csv\n",
      "/workspaces/arc-data-benchmark/data/raw/2022-03-22 10-42-30 PM_nodes_e2e.csv\n",
      "/workspaces/arc-data-benchmark/data/raw/2022-03-22 9-10-22 PM.csv\n",
      "/workspaces/arc-data-benchmark/data/raw/2022-03-22 9-40-16 PM.csv\n",
      "/workspaces/arc-data-benchmark/data/raw/2022-03-22 9-56-14 PM.csv\n",
      "/workspaces/arc-data-benchmark/data/raw/2022-03-24 10-31-04 PM.csv\n",
      "/workspaces/arc-data-benchmark/data/raw/2022-03-24 8-30-00 AM.csv\n",
      "/workspaces/arc-data-benchmark/data/raw/2022-03-24 9-09-55 PM.csv\n",
      "/workspaces/arc-data-benchmark/data/raw/2022-03-24 9-47-03 PM.csv\n",
      "/workspaces/arc-data-benchmark/data/raw/2022-03-26 1-13-44 PM.csv\n",
      "/workspaces/arc-data-benchmark/data/raw/2022-03-26 10-04-40 AM.csv\n",
      "/workspaces/arc-data-benchmark/data/raw/2022-03-26 10-12-30 AM.csv\n",
      "/workspaces/arc-data-benchmark/data/raw/2022-03-26 2-37-01 PM.csv\n",
      "/workspaces/arc-data-benchmark/data/raw/2022-03-26 4-48-52 PM.csv\n",
      "/workspaces/arc-data-benchmark/data/raw/2022-03-26 5-32-01 PM.csv\n",
      "/workspaces/arc-data-benchmark/data/raw/2022-03-26 8-16-00 PM_55-sql-mis.csv\n"
     ]
    }
   ],
   "source": [
    "# For loop over and print file names\n",
    "for file in csv_files:\n",
    "    print(file)"
   ]
  },
  {
   "cell_type": "code",
   "execution_count": 14,
   "metadata": {},
   "outputs": [
    {
     "data": {
      "text/html": [
       "<div>\n",
       "<style scoped>\n",
       "    .dataframe tbody tr th:only-of-type {\n",
       "        vertical-align: middle;\n",
       "    }\n",
       "\n",
       "    .dataframe tbody tr th {\n",
       "        vertical-align: top;\n",
       "    }\n",
       "\n",
       "    .dataframe thead th {\n",
       "        text-align: right;\n",
       "    }\n",
       "</style>\n",
       "<table border=\"1\" class=\"dataframe\">\n",
       "  <thead>\n",
       "    <tr style=\"text-align: right;\">\n",
       "      <th></th>\n",
       "      <th>TimeGenerated [Eastern Time (US and Canada)]</th>\n",
       "      <th>Computer</th>\n",
       "      <th>PodName</th>\n",
       "      <th>PvcName</th>\n",
       "      <th>VolumeName</th>\n",
       "      <th>VolumeMB</th>\n",
       "      <th>PvUsedMB</th>\n",
       "      <th>CapacityMB</th>\n",
       "      <th>UsagePercent</th>\n",
       "    </tr>\n",
       "  </thead>\n",
       "  <tbody>\n",
       "    <tr>\n",
       "      <th>0</th>\n",
       "      <td>3/22/2022, 10:31:09.000 PM</td>\n",
       "      <td>aks-agentpool-14651284-vmss000001</td>\n",
       "      <td>logsdb-0</td>\n",
       "      <td>data-logsdb-0</td>\n",
       "      <td>data</td>\n",
       "      <td>NaN</td>\n",
       "      <td>757.660156</td>\n",
       "      <td>4955</td>\n",
       "      <td>15.29</td>\n",
       "    </tr>\n",
       "    <tr>\n",
       "      <th>1</th>\n",
       "      <td>3/22/2022, 10:31:09.000 PM</td>\n",
       "      <td>aks-agentpool-14651284-vmss000001</td>\n",
       "      <td>logsdb-0</td>\n",
       "      <td>logs-logsdb-0</td>\n",
       "      <td>logs</td>\n",
       "      <td>NaN</td>\n",
       "      <td>89.765625</td>\n",
       "      <td>4955</td>\n",
       "      <td>1.81</td>\n",
       "    </tr>\n",
       "    <tr>\n",
       "      <th>2</th>\n",
       "      <td>3/22/2022, 10:31:09.000 PM</td>\n",
       "      <td>aks-agentpool-14651284-vmss000001</td>\n",
       "      <td>metricsdb-0</td>\n",
       "      <td>data-metricsdb-0</td>\n",
       "      <td>data</td>\n",
       "      <td>NaN</td>\n",
       "      <td>82.464844</td>\n",
       "      <td>4955</td>\n",
       "      <td>1.66</td>\n",
       "    </tr>\n",
       "    <tr>\n",
       "      <th>3</th>\n",
       "      <td>3/22/2022, 10:31:09.000 PM</td>\n",
       "      <td>aks-agentpool-14651284-vmss000001</td>\n",
       "      <td>metricsdb-0</td>\n",
       "      <td>logs-metricsdb-0</td>\n",
       "      <td>logs</td>\n",
       "      <td>NaN</td>\n",
       "      <td>8.406250</td>\n",
       "      <td>4955</td>\n",
       "      <td>0.17</td>\n",
       "    </tr>\n",
       "    <tr>\n",
       "      <th>4</th>\n",
       "      <td>3/22/2022, 10:31:09.000 PM</td>\n",
       "      <td>aks-agentpool-14651284-vmss000001</td>\n",
       "      <td>kafka-zookeeper-0</td>\n",
       "      <td>logs-kafka-zookeeper-0</td>\n",
       "      <td>logs</td>\n",
       "      <td>NaN</td>\n",
       "      <td>1.082031</td>\n",
       "      <td>9979</td>\n",
       "      <td>0.01</td>\n",
       "    </tr>\n",
       "  </tbody>\n",
       "</table>\n",
       "</div>"
      ],
      "text/plain": [
       "  TimeGenerated [Eastern Time (US and Canada)]  \\\n",
       "0                   3/22/2022, 10:31:09.000 PM   \n",
       "1                   3/22/2022, 10:31:09.000 PM   \n",
       "2                   3/22/2022, 10:31:09.000 PM   \n",
       "3                   3/22/2022, 10:31:09.000 PM   \n",
       "4                   3/22/2022, 10:31:09.000 PM   \n",
       "\n",
       "                            Computer            PodName  \\\n",
       "0  aks-agentpool-14651284-vmss000001           logsdb-0   \n",
       "1  aks-agentpool-14651284-vmss000001           logsdb-0   \n",
       "2  aks-agentpool-14651284-vmss000001        metricsdb-0   \n",
       "3  aks-agentpool-14651284-vmss000001        metricsdb-0   \n",
       "4  aks-agentpool-14651284-vmss000001  kafka-zookeeper-0   \n",
       "\n",
       "                  PvcName VolumeName  VolumeMB    PvUsedMB  CapacityMB  \\\n",
       "0           data-logsdb-0       data       NaN  757.660156        4955   \n",
       "1           logs-logsdb-0       logs       NaN   89.765625        4955   \n",
       "2        data-metricsdb-0       data       NaN   82.464844        4955   \n",
       "3        logs-metricsdb-0       logs       NaN    8.406250        4955   \n",
       "4  logs-kafka-zookeeper-0       logs       NaN    1.082031        9979   \n",
       "\n",
       "   UsagePercent  \n",
       "0         15.29  \n",
       "1          1.81  \n",
       "2          1.66  \n",
       "3          0.17  \n",
       "4          0.01  "
      ]
     },
     "metadata": {},
     "output_type": "display_data"
    }
   ],
   "source": [
    "file = csv_files[0]\n",
    "\n",
    "# Pandas read_csv\n",
    "df = pd.read_csv(file)\n",
    "\n",
    "# Display first 5 rows\n",
    "display(df.head(5))"
   ]
  }
 ],
 "metadata": {
  "kernelspec": {
   "display_name": "env",
   "language": "python",
   "name": "env"
  },
  "language_info": {
   "codemirror_mode": {
    "name": "ipython",
    "version": 3
   },
   "file_extension": ".py",
   "mimetype": "text/x-python",
   "name": "python",
   "nbconvert_exporter": "python",
   "pygments_lexer": "ipython3",
   "version": "3.8.10"
  },
  "orig_nbformat": 4
 },
 "nbformat": 4,
 "nbformat_minor": 2
}
